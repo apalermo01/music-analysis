{
 "cells": [
  {
   "cell_type": "markdown",
   "metadata": {},
   "source": [
    "Dataset pulled from https://magenta.tensorflow.org/datasets/nsynth#files"
   ]
  },
  {
   "cell_type": "markdown",
   "metadata": {},
   "source": [
    "Jesse Engel, Cinjon Resnick, Adam Roberts, Sander Dieleman, Douglas Eck,\n",
    "  Karen Simonyan, and Mohammad Norouzi. \"Neural Audio Synthesis of Musical Notes\n",
    "  with WaveNet Autoencoders.\" 2017."
   ]
  },
  {
   "cell_type": "code",
   "execution_count": 1,
   "metadata": {},
   "outputs": [],
   "source": [
    "from os import walk"
   ]
  },
  {
   "cell_type": "code",
   "execution_count": 7,
   "metadata": {},
   "outputs": [
    {
     "data": {
      "text/plain": [
       "['guitar_acoustic_010-085-050.wav',\n",
       " 'guitar_acoustic_010-064-100.wav',\n",
       " 'guitar_acoustic_010-095-050.wav',\n",
       " 'guitar_acoustic_015-028-075.wav',\n",
       " 'guitar_acoustic_014-050-050.wav',\n",
       " 'guitar_acoustic_014-040-050.wav',\n",
       " 'guitar_acoustic_010-035-127.wav',\n",
       " 'guitar_acoustic_021-101-025.wav',\n",
       " 'guitar_acoustic_021-079-025.wav',\n",
       " 'guitar_acoustic_010-025-127.wav',\n",
       " 'guitar_acoustic_014-027-075.wav',\n",
       " 'guitar_acoustic_030-023-025.wav',\n",
       " 'guitar_acoustic_030-033-025.wav',\n",
       " 'guitar_acoustic_014-059-127.wav',\n",
       " 'guitar_acoustic_015-063-025.wav',\n",
       " 'guitar_acoustic_021-055-050.wav',\n",
       " 'guitar_acoustic_015-073-025.wav',\n",
       " 'guitar_acoustic_021-045-050.wav',\n",
       " 'guitar_acoustic_014-049-127.wav',\n",
       " 'guitar_acoustic_015-046-127.wav']"
      ]
     },
     "execution_count": 7,
     "metadata": {},
     "output_type": "execute_result"
    }
   ],
   "source": [
    "acousticGuitars = []\n",
    "musicFolder = '../../music-data/'\n",
    "testFolder = 'nsynth-valid/audio/'\n",
    "for root, dirs, files in walk(musicFolder+testFolder):\n",
    "    for file in files:\n",
    "        if file.startswith('guitar_acoustic') and file.endswith('.wav'):\n",
    "            acousticGuitars.append(file)\n",
    "    break\n",
    "acousticGuitars[:20]"
   ]
  },
  {
   "cell_type": "code",
   "execution_count": 8,
   "metadata": {},
   "outputs": [],
   "source": [
    "import scipy"
   ]
  },
  {
   "cell_type": "markdown",
   "metadata": {},
   "source": [
    "The following data.shape is 1d because the audio from the source is mono."
   ]
  },
  {
   "cell_type": "code",
   "execution_count": 20,
   "metadata": {},
   "outputs": [
    {
     "name": "stdout",
     "output_type": "stream",
     "text": [
      "sample size and channels = (64000,)\n",
      "length = 4.0s\n"
     ]
    }
   ],
   "source": [
    "from scipy.io import wavfile\n",
    "import scipy.io\n",
    "\n",
    "samplerate, data = wavfile.read(musicFolder+testFolder+acousticGuitars[0])\n",
    "print(f\"sample size and channels = {data.shape}\")\n",
    "\n",
    "length = data.shape[0] / samplerate\n",
    "print(f\"length = {length}s\")"
   ]
  },
  {
   "cell_type": "code",
   "execution_count": 16,
   "metadata": {},
   "outputs": [
    {
     "data": {
      "image/png": "[encoded data removed]",
      "text/plain": [
       "<Figure size 432x288 with 1 Axes>"
      ]
     },
     "metadata": {
      "needs_background": "light"
     },
     "output_type": "display_data"
    }
   ],
   "source": [
    "import matplotlib.pyplot as plt\n",
    "\n",
    "import numpy as np\n",
    "\n",
    "time = np.linspace(0., length, data.shape[0])\n",
    "\n",
    "plt.plot(time, data[:], label=\"mono\")\n",
    "\n",
    "plt.legend()\n",
    "\n",
    "plt.xlabel(\"Time [s]\")\n",
    "\n",
    "plt.ylabel(\"Amplitude\")\n",
    "\n",
    "plt.show()"
   ]
  },
  {
   "cell_type": "markdown",
   "metadata": {},
   "source": [
    "If we get data with stereo sound it could affect the way it's interpreted. It would probably help to specifically analyze each channel separately."
   ]
  },
  {
   "cell_type": "code",
   "execution_count": 21,
   "metadata": {
    "scrolled": false,
    "slideshow": {
     "slide_type": "subslide"
    }
   },
   "outputs": [
    {
     "name": "stdout",
     "output_type": "stream",
     "text": [
      "sample size and channels = (240894, 2)\n",
      "length = 5.462448979591837s\n"
     ]
    },
    {
     "name": "stderr",
     "output_type": "stream",
     "text": [
      "<ipython-input-21-496ce90bde5e>:1: WavFileWarning: Chunk (non-data) not understood, skipping it.\n",
      "  samplerate, data = wavfile.read(musicFolder+'181425__serylis__guitar-chord.wav')\n"
     ]
    }
   ],
   "source": [
    "samplerate, data = wavfile.read(musicFolder+'181425__serylis__guitar-chord.wav')\n",
    "print(f\"sample size and channels = {data.shape}\")\n",
    "\n",
    "length = data.shape[0] / samplerate\n",
    "print(f\"length = {length}s\")"
   ]
  },
  {
   "cell_type": "code",
   "execution_count": 19,
   "metadata": {},
   "outputs": [
    {
     "data": {
      "image/png": "[encoded data removed]",
      "text/plain": [
       "<Figure size 432x288 with 1 Axes>"
      ]
     },
     "metadata": {
      "needs_background": "light"
     },
     "output_type": "display_data"
    }
   ],
   "source": [
    "time = np.linspace(0., length, data.shape[0])\n",
    "\n",
    "plt.plot(time, data[:, 0], label=\"Left Channel\")\n",
    "plt.plot(time, data[:, 1], label=\"Right Channel\")\n",
    "\n",
    "plt.legend()\n",
    "\n",
    "plt.xlabel(\"Time [s]\")\n",
    "\n",
    "plt.ylabel(\"Amplitude\")\n",
    "\n",
    "plt.show()"
   ]
  }
 ],
 "metadata": {
  "kernelspec": {
   "display_name": "Python 3",
   "language": "python",
   "name": "python3"
  },
  "language_info": {
   "codemirror_mode": {
    "name": "ipython",
    "version": 3
   },
   "file_extension": ".py",
   "mimetype": "text/x-python",
   "name": "python",
   "nbconvert_exporter": "python",
   "pygments_lexer": "ipython3",
   "version": "3.8.5"
  }
 },
 "nbformat": 4,
 "nbformat_minor": 4
}
