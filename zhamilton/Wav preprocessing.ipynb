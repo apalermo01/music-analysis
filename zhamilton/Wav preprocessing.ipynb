{
 "cells": [
  {
   "cell_type": "code",
   "execution_count": 6,
   "id": "thermal-institute",
   "metadata": {},
   "outputs": [],
   "source": [
    "from sklearn.preprocessing import StandardScaler\n",
    "import os\n",
    "import time\n",
    "import pandas as pd\n",
    "import numpy as np\n",
    "import librosa\n"
   ]
  },
  {
   "cell_type": "code",
   "execution_count": 2,
   "id": "designed-bridal",
   "metadata": {},
   "outputs": [],
   "source": [
    "def getFftMfcc(wav):\n",
    "    y, sr = librosa.load(wav, mono=True)\n",
    "    mfcc = librosa.feature.mfcc(y=y, sr=sr)\n",
    "    mfccArr = np.array(mfcc)\n",
    "    return mfccArr"
   ]
  },
  {
   "cell_type": "code",
   "execution_count": 13,
   "id": "communist-gentleman",
   "metadata": {},
   "outputs": [
    {
     "name": "stdout",
     "output_type": "stream",
     "text": [
      "20053.983436346054\n",
      "[array([-3.7653105 , -4.525652  , -4.5345325 , ..., -0.02695847,\n",
      "       -0.02695847, -0.02695847], dtype=float32)\n",
      " array([-3.5626736 , -4.557541  , -4.5667567 , ..., -0.02584453,\n",
      "       -0.02584453, -0.02584453], dtype=float32)\n",
      " array([-3.6400123 , -4.4066415 , -4.392719  , ..., -0.02909652,\n",
      "       -0.02909652, -0.02909652], dtype=float32)\n",
      " ...\n",
      " array([-5.1748614 , -3.5666323 , -3.5434368 , ...,  0.21250555,\n",
      "        0.21250555,  0.21250555], dtype=float32)\n",
      " array([-4.7225976, -3.5155916, -3.5779989, ...,  0.2137294,  0.2137294,\n",
      "        0.2137294], dtype=float32)\n",
      " array([-4.3036423 , -3.5351734 , -3.6143367 , ...,  0.20966795,\n",
      "        0.20966795,  0.20966795], dtype=float32)]\n"
     ]
    }
   ],
   "source": [
    "baseDirectory =\"C:\\\\Users\\\\Zachary\\\\Downloads\\\\nsynth\\\\nsynth-train\\\\audio\"\n",
    "audio=[]\n",
    "scale = StandardScaler()\n",
    "start=time.time()\n",
    "for x,y,z in os.walk(baseDirectory):\n",
    "    for wav in z:\n",
    "        soundDir = baseDirectory + \"\\\\\" + wav\n",
    "        test=getFftMfcc(soundDir)\n",
    "        arr = np.delete(test, np.where(test == 0)).reshape(-1, 1)\n",
    "        arr = np.array(scale.fit_transform(arr)).reshape(arr.size)\n",
    "        audio.append(arr)\n",
    "end=time.time()\n",
    "print(end-start)\n",
    "print(np.array(audio))\n",
    "#pd.to_csv(audio)"
   ]
  },
  {
   "cell_type": "code",
   "execution_count": 35,
   "id": "cosmetic-living",
   "metadata": {},
   "outputs": [],
   "source": [
    "for i in range(0,280000,10000):\n",
    "    pdD=pd.DataFrame(audio[i:i+9999])\n",
    "    pdD.to_csv('C:\\\\Users\\\\Zachary\\\\Downloads\\\\nsynth\\\\train.csv', mode='a', header=False)\n",
    "pdD=pd.DataFrame(audio[280000:])\n",
    "pdD.to_csv('C:\\\\Users\\\\Zachary\\\\Downloads\\\\nsynth\\\\train.csv', mode='a', header=False)"
   ]
  },
  {
   "cell_type": "code",
   "execution_count": 34,
   "id": "stable-sitting",
   "metadata": {},
   "outputs": [],
   "source": []
  },
  {
   "cell_type": "code",
   "execution_count": null,
   "id": "silver-independence",
   "metadata": {},
   "outputs": [],
   "source": []
  },
  {
   "cell_type": "code",
   "execution_count": null,
   "id": "immediate-sunglasses",
   "metadata": {},
   "outputs": [],
   "source": []
  }
 ],
 "metadata": {
  "kernelspec": {
   "display_name": "Python 3",
   "language": "python",
   "name": "python3"
  },
  "language_info": {
   "codemirror_mode": {
    "name": "ipython",
    "version": 3
   },
   "file_extension": ".py",
   "mimetype": "text/x-python",
   "name": "python",
   "nbconvert_exporter": "python",
   "pygments_lexer": "ipython3",
   "version": "3.7.6"
  }
 },
 "nbformat": 4,
 "nbformat_minor": 5
}
