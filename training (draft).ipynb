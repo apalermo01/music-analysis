{
 "cells": [
  {
   "cell_type": "markdown",
   "id": "chicken-integer",
   "metadata": {},
   "source": [
    "# Reading training dataset from tfrecord file"
   ]
  },
  {
   "cell_type": "code",
   "execution_count": 22,
   "id": "endless-general",
   "metadata": {},
   "outputs": [],
   "source": [
    "from getpass import getpass\n",
    "from mysql.connector import connect, Error\n",
    "\n",
    "def query(text, inputs=None):\n",
    "    try: \n",
    "        with connect(\n",
    "            host='localhost',\n",
    "            user='apalermo01',\n",
    "            password='pass_2112',\n",
    "            database='music',\n",
    "        ) as connection:\n",
    "            with connection.cursor() as cursor:\n",
    "                cursor.execute(text, inputs)\n",
    "                res = []\n",
    "                for db in cursor:\n",
    "                    res.append(db)\n",
    "                return res\n",
    "    except Error as e:\n",
    "        print(\"exception\")\n",
    "        print(e)"
   ]
  },
  {
   "cell_type": "code",
   "execution_count": 23,
   "id": "threatened-transformation",
   "metadata": {},
   "outputs": [
    {
     "data": {
      "text/plain": [
       "[('id', b'int', 'NO', 'PRI', None, 'auto_increment'),\n",
       " ('mfcc', b'text', 'YES', '', None, ''),\n",
       " ('filename', b'varchar(100)', 'YES', '', None, ''),\n",
       " ('folder_id', b'int', 'YES', '', None, ''),\n",
       " ('target', b'int', 'YES', '', None, ''),\n",
       " ('fft', b'text', 'YES', '', None, '')]"
      ]
     },
     "execution_count": 23,
     "metadata": {},
     "output_type": "execute_result"
    }
   ],
   "source": [
    "show_db_query = \"SHOW DATABASES\"\n",
    "test_query = \"SHOW TABLES\"\n",
    "test1_query = \"SELECT * FROM train LIMIT 10;\"\n",
    "test2 = \"DESCRIBE test;\"\n",
    "res = query(test2)\n",
    "res"
   ]
  },
  {
   "cell_type": "code",
   "execution_count": 6,
   "id": "opposed-warrior",
   "metadata": {},
   "outputs": [
    {
     "data": {
      "text/plain": [
       "[(20485, 'guitar_acoustic_010-074-100.wav', 1, 219),\n",
       " (20486, 'organ_electronic_113-048-075.wav', 1, 958),\n",
       " (20487, 'bass_synthetic_098-106-100.wav', 1, 803),\n",
       " (20488, 'bass_synthetic_033-100-100.wav', 1, 417),\n",
       " (20489, 'keyboard_synthetic_000-095-127.wav', 1, 577),\n",
       " (20490, 'bass_synthetic_068-056-075.wav', 1, 656),\n",
       " (20491, 'organ_electronic_057-061-100.wav', 1, 701),\n",
       " (20492, 'reed_acoustic_011-076-100.wav', 1, 104),\n",
       " (20493, 'bass_electronic_025-048-075.wav', 1, 872),\n",
       " (20494, 'guitar_acoustic_015-038-075.wav', 1, 316)]"
      ]
     },
     "execution_count": 6,
     "metadata": {},
     "output_type": "execute_result"
    }
   ],
   "source": [
    "text = \"\"\"\n",
    "SELECT id, filename, folder_id, target FROM test LIMIT 10\n",
    "\"\"\"\n",
    "query(text)"
   ]
  },
  {
   "cell_type": "code",
   "execution_count": 8,
   "id": "small-solid",
   "metadata": {},
   "outputs": [
    {
     "data": {
      "text/plain": [
       "[(20485, 'guitar_acoustic_010-074-100.wav', 1, 219),\n",
       " (20494, 'guitar_acoustic_015-038-075.wav', 1, 316),\n",
       " (20496, 'guitar_electronic_028-091-127.wav', 1, 510),\n",
       " (20499, 'guitar_acoustic_014-037-075.wav', 1, 263),\n",
       " (20504, 'guitar_acoustic_021-069-025.wav', 1, 457),\n",
       " (20514, 'guitar_electronic_022-054-100.wav', 1, 378),\n",
       " (20518, 'guitar_electronic_028-101-100.wav', 1, 510),\n",
       " (20527, 'guitar_acoustic_014-104-025.wav', 1, 263),\n",
       " (20530, 'guitar_acoustic_021-022-075.wav', 1, 457),\n",
       " (20545, 'guitar_acoustic_014-102-100.wav', 1, 263)]"
      ]
     },
     "execution_count": 8,
     "metadata": {},
     "output_type": "execute_result"
    }
   ],
   "source": [
    "text = \"\"\"\n",
    "SELECT id, filename, folder_id, target\n",
    "FROM test\n",
    "WHERE\n",
    "    test.filename Like \"guitar%\"\n",
    "LIMIT 10\n",
    "\"\"\"\n",
    "query(text)"
   ]
  },
  {
   "cell_type": "markdown",
   "id": "organized-locator",
   "metadata": {},
   "source": [
    "# Develop a pipeline to do batch learning"
   ]
  },
  {
   "cell_type": "markdown",
   "id": "allied-march",
   "metadata": {},
   "source": [
    "Get a numpy array with unique ids"
   ]
  },
  {
   "cell_type": "code",
   "execution_count": 9,
   "id": "impaired-civilian",
   "metadata": {},
   "outputs": [],
   "source": [
    "text = \"\"\"\n",
    "SELECT id FROM test\n",
    "\"\"\"\n",
    "\n",
    "ids = query(text)"
   ]
  },
  {
   "cell_type": "code",
   "execution_count": 16,
   "id": "numeric-forty",
   "metadata": {},
   "outputs": [],
   "source": [
    "import numpy as np"
   ]
  },
  {
   "cell_type": "code",
   "execution_count": 17,
   "id": "prompt-white",
   "metadata": {},
   "outputs": [],
   "source": [
    "ids_new = np.array([i[0] for i in ids])"
   ]
  },
  {
   "cell_type": "code",
   "execution_count": 20,
   "id": "brilliant-barbados",
   "metadata": {},
   "outputs": [
    {
     "data": {
      "text/plain": [
       "array([20485, 20486, 20487, ..., 24578, 24579, 24580])"
      ]
     },
     "execution_count": 20,
     "metadata": {},
     "output_type": "execute_result"
    }
   ],
   "source": [
    "ids_new"
   ]
  },
  {
   "cell_type": "markdown",
   "id": "manual-keyboard",
   "metadata": {},
   "source": [
    "# Get a sample mfcc / input"
   ]
  },
  {
   "cell_type": "code",
   "execution_count": 25,
   "id": "dirty-collection",
   "metadata": {},
   "outputs": [],
   "source": [
    "id_select = [str(ids_new[0])]\n",
    "\n",
    "text = \"\"\"\n",
    "SELECT mfcc\n",
    "FROM test\n",
    "WHERE id = (%s)\n",
    "\"\"\"\n",
    "\n",
    "mfcc = query(text, id_select)\n"
   ]
  },
  {
   "cell_type": "code",
   "execution_count": 70,
   "id": "informed-pension",
   "metadata": {},
   "outputs": [],
   "source": [
    "PATH = \"C:/Users/alexc/Downloads/nsynth-train.jsonwav.tar.gz\"\n",
    "import numpy as np\n",
    "import librosa\n",
    "import tarfile\n",
    "import soundfile as sf\n",
    "import io\n",
    "\n",
    "def getfiles(PATH, num_files = 1000):\n",
    "    with tarfile.open(PATH, 'r:gz') as tar:\n",
    "        index = 0\n",
    "        #while index < max_index:\n",
    "        while True:\n",
    "            fname = tar.next()\n",
    "            if fname is None: \n",
    "                break\n",
    "            if fname.name.endswith(\".wav\"):\n",
    "                wav_file = tar.extractfile(fname).read()\n",
    "                data, sr = sf.read(io.BytesIO(wav_file))\n",
    "                yield data, sr, fname.name\n",
    "data_gen = getfiles(PATH)"
   ]
  },
  {
   "cell_type": "markdown",
   "id": "defensive-outside",
   "metadata": {},
   "source": [
    "Write a function to get several files"
   ]
  },
  {
   "cell_type": "code",
   "execution_count": 72,
   "id": "short-creator",
   "metadata": {},
   "outputs": [],
   "source": [
    "test = next(data_gen)"
   ]
  },
  {
   "cell_type": "code",
   "execution_count": 77,
   "id": "median-drive",
   "metadata": {},
   "outputs": [
    {
     "data": {
      "text/plain": [
       "'bass'"
      ]
     },
     "execution_count": 77,
     "metadata": {},
     "output_type": "execute_result"
    }
   ],
   "source": [
    "test[2].split('/')[2].split('_')[0]"
   ]
  },
  {
   "cell_type": "code",
   "execution_count": 78,
   "id": "presidential-treaty",
   "metadata": {},
   "outputs": [],
   "source": [
    "targets_list = [\n",
    "    \"bass\", \"brass\", \"flute\", \"guitar\", \"keyboard\",\n",
    "    \"mallet\", \"organ\", \"reed\", \"string\", \"synth_lead\", \"vocal\"\n",
    "]"
   ]
  },
  {
   "cell_type": "code",
   "execution_count": 81,
   "id": "caroline-capital",
   "metadata": {},
   "outputs": [],
   "source": [
    "def getdata(data_gen=data_gen, num_files=10):\n",
    "    data = []\n",
    "    for i in range(num_files):\n",
    "        record = next(data_gen)\n",
    "        target = record[2].split('/')[2].split('_')[0]\n",
    "        data.append((record[0], record[1], target))\n",
    "    return data"
   ]
  },
  {
   "cell_type": "code",
   "execution_count": 82,
   "id": "separated-darwin",
   "metadata": {},
   "outputs": [],
   "source": [
    "results = getdata()"
   ]
  },
  {
   "cell_type": "code",
   "execution_count": 83,
   "id": "uniform-salad",
   "metadata": {},
   "outputs": [
    {
     "data": {
      "text/plain": [
       "(array([0., 0., 0., ..., 0., 0., 0.]), 16000, 'keyboard')"
      ]
     },
     "execution_count": 83,
     "metadata": {},
     "output_type": "execute_result"
    }
   ],
   "source": [
    "results[0]"
   ]
  },
  {
   "cell_type": "markdown",
   "id": "considered-emission",
   "metadata": {},
   "source": [
    "Compute the mfccs"
   ]
  },
  {
   "cell_type": "code",
   "execution_count": 87,
   "id": "protective-sheep",
   "metadata": {},
   "outputs": [
    {
     "data": {
      "text/plain": [
       "[(array([0., 0., 0., ..., 0., 0., 0.]), 16000, 'keyboard'),\n",
       " (array([0., 0., 0., ..., 0., 0., 0.]), 16000, 'string'),\n",
       " (array([0., 0., 0., ..., 0., 0., 0.]), 16000, 'keyboard'),\n",
       " (array([0., 0., 0., ..., 0., 0., 0.]), 16000, 'brass'),\n",
       " (array([ 0.        , -0.00094604, -0.00268555, ...,  0.        ,\n",
       "          0.        ,  0.        ]),\n",
       "  16000,\n",
       "  'reed'),\n",
       " (array([ 0.00112915, -0.0015564 ,  0.00216675, ...,  0.        ,\n",
       "          0.        ,  0.        ]),\n",
       "  16000,\n",
       "  'keyboard'),\n",
       " (array([0., 0., 0., ..., 0., 0., 0.]), 16000, 'string'),\n",
       " (array([0., 0., 0., ..., 0., 0., 0.]), 16000, 'keyboard'),\n",
       " (array([0., 0., 0., ..., 0., 0., 0.]), 16000, 'guitar'),\n",
       " (array([0., 0., 0., ..., 0., 0., 0.]), 16000, 'organ')]"
      ]
     },
     "execution_count": 87,
     "metadata": {},
     "output_type": "execute_result"
    }
   ],
   "source": [
    "results"
   ]
  },
  {
   "cell_type": "code",
   "execution_count": 93,
   "id": "adjustable-publisher",
   "metadata": {},
   "outputs": [],
   "source": [
    "def getmfccs(data_tuple):\n",
    "    data = data_tuple[0]\n",
    "    sr = data_tuple[1]\n",
    "    mfcc = librosa.feature.mfcc(y=data, sr=sr)\n",
    "    mfccStr = str(list(mfcc))\n",
    "    return mfcc"
   ]
  },
  {
   "cell_type": "markdown",
   "id": "divine-canon",
   "metadata": {},
   "source": [
    "Use one-hot encoding for the target values"
   ]
  },
  {
   "cell_type": "code",
   "execution_count": 131,
   "id": "coated-catch",
   "metadata": {},
   "outputs": [],
   "source": [
    "from sklearn.preprocessing import OneHotEncoder"
   ]
  },
  {
   "cell_type": "code",
   "execution_count": 132,
   "id": "single-schema",
   "metadata": {},
   "outputs": [
    {
     "data": {
      "text/plain": [
       "['bass',\n",
       " 'brass',\n",
       " 'flute',\n",
       " 'guitar',\n",
       " 'keyboard',\n",
       " 'mallet',\n",
       " 'organ',\n",
       " 'reed',\n",
       " 'string',\n",
       " 'synth_lead',\n",
       " 'vocal']"
      ]
     },
     "execution_count": 132,
     "metadata": {},
     "output_type": "execute_result"
    }
   ],
   "source": [
    "targets_list"
   ]
  },
  {
   "cell_type": "code",
   "execution_count": 133,
   "id": "varying-throw",
   "metadata": {},
   "outputs": [],
   "source": [
    "enc = OneHotEncoder()"
   ]
  },
  {
   "cell_type": "code",
   "execution_count": null,
   "id": "welsh-camera",
   "metadata": {},
   "outputs": [],
   "source": []
  },
  {
   "cell_type": "markdown",
   "id": "optional-writing",
   "metadata": {},
   "source": [
    "# Implement a basic network"
   ]
  },
  {
   "cell_type": "markdown",
   "id": "victorian-occasion",
   "metadata": {},
   "source": [
    "Get the input shape"
   ]
  },
  {
   "cell_type": "code",
   "execution_count": 67,
   "id": "stainless-bailey",
   "metadata": {},
   "outputs": [
    {
     "name": "stdout",
     "output_type": "stream",
     "text": [
      "Model: \"sequential\"\n",
      "_________________________________________________________________\n",
      "Layer (type)                 Output Shape              Param #   \n",
      "=================================================================\n",
      "flatten (Flatten)            (None, 2520)              0         \n",
      "_________________________________________________________________\n",
      "dense (Dense)                (None, 512)               1290752   \n",
      "_________________________________________________________________\n",
      "dense_1 (Dense)              (None, 256)               131328    \n",
      "_________________________________________________________________\n",
      "dense_2 (Dense)              (None, 64)                16448     \n",
      "_________________________________________________________________\n",
      "dense_3 (Dense)              (None, 10)                650       \n",
      "=================================================================\n",
      "Total params: 1,439,178\n",
      "Trainable params: 1,439,178\n",
      "Non-trainable params: 0\n",
      "_________________________________________________________________\n"
     ]
    }
   ],
   "source": [
    "from tensorflow import keras\n",
    "\n",
    "# build the network architecture\n",
    "model = keras.Sequential([\n",
    "    # input layer                    # flatten this 2D array, intervals x values of MFCCs for that interval\n",
    "    keras.layers.Flatten(input_shape=(20, 126)),\n",
    "    \n",
    "    # 1st hidden layer  \n",
    "    keras.layers.Dense(512, activation=\"relu\"), \n",
    "    \n",
    "    # 2nd hidden layer\n",
    "    keras.layers.Dense(256, activation=\"relu\"), \n",
    "    \n",
    "    # 3rd hidden layer\n",
    "    keras.layers.Dense(64,  activation=\"relu\"),\n",
    "    \n",
    "    # output layers- 1 neuron for each genre\n",
    "    keras.layers.Dense(10, activation=\"softmax\")\n",
    "])\n",
    "\n",
    "# compile network\n",
    "optimizer = keras.optimizers.Adam(learning_rate=0.001)\n",
    "model.compile(optimizer=optimizer, \n",
    "              loss=\"sparse_categorical_crossentropy\", \n",
    "              metrics=[\"accuracy\"])\n",
    "model.summary()"
   ]
  },
  {
   "cell_type": "markdown",
   "id": "external-dealing",
   "metadata": {},
   "source": [
    "Train with one batch of data"
   ]
  },
  {
   "cell_type": "code",
   "execution_count": 100,
   "id": "nervous-thirty",
   "metadata": {},
   "outputs": [],
   "source": [
    "dataset = getdata()"
   ]
  },
  {
   "cell_type": "code",
   "execution_count": 109,
   "id": "correct-adoption",
   "metadata": {},
   "outputs": [],
   "source": [
    "X = np.array([getmfccs(i) for i in dataset])\n",
    "t = np.array([targets_list.index(i[2]) for i in dataset])"
   ]
  },
  {
   "cell_type": "code",
   "execution_count": 110,
   "id": "political-spider",
   "metadata": {},
   "outputs": [
    {
     "data": {
      "text/plain": [
       "array([4, 4, 1, 5, 0, 5, 0, 8, 8, 7])"
      ]
     },
     "execution_count": 110,
     "metadata": {},
     "output_type": "execute_result"
    }
   ],
   "source": [
    "t"
   ]
  },
  {
   "cell_type": "code",
   "execution_count": 111,
   "id": "exclusive-pepper",
   "metadata": {},
   "outputs": [
    {
     "data": {
      "text/plain": [
       "numpy.ndarray"
      ]
     },
     "execution_count": 111,
     "metadata": {},
     "output_type": "execute_result"
    }
   ],
   "source": [
    "type(X)"
   ]
  },
  {
   "cell_type": "code",
   "execution_count": 113,
   "id": "spectacular-graphics",
   "metadata": {},
   "outputs": [
    {
     "name": "stdout",
     "output_type": "stream",
     "text": [
      "Epoch 1/10\n",
      "1/1 [==============================] - 0s 1ms/step - loss: 208.8023 - accuracy: 0.3000\n",
      "Epoch 2/10\n",
      "1/1 [==============================] - 0s 1ms/step - loss: 187.9819 - accuracy: 0.3000\n",
      "Epoch 3/10\n",
      "1/1 [==============================] - 0s 999us/step - loss: 125.4774 - accuracy: 0.4000\n",
      "Epoch 4/10\n",
      "1/1 [==============================] - 0s 2ms/step - loss: 31.1182 - accuracy: 0.5000\n",
      "Epoch 5/10\n",
      "1/1 [==============================] - 0s 2ms/step - loss: 26.2809 - accuracy: 0.6000\n",
      "Epoch 6/10\n",
      "1/1 [==============================] - 0s 2ms/step - loss: 24.8144 - accuracy: 0.7000\n",
      "Epoch 7/10\n",
      "1/1 [==============================] - 0s 495us/step - loss: 8.5118 - accuracy: 0.8000\n",
      "Epoch 8/10\n",
      "1/1 [==============================] - 0s 11ms/step - loss: 1.8464 - accuracy: 0.8000\n",
      "Epoch 9/10\n",
      "1/1 [==============================] - 0s 10ms/step - loss: 0.0629 - accuracy: 1.0000\n",
      "Epoch 10/10\n",
      "1/1 [==============================] - 0s 10ms/step - loss: 11.2563 - accuracy: 0.8000\n"
     ]
    },
    {
     "data": {
      "text/plain": [
       "<tensorflow.python.keras.callbacks.History at 0x27557e14b20>"
      ]
     },
     "execution_count": 113,
     "metadata": {},
     "output_type": "execute_result"
    }
   ],
   "source": [
    "model.fit(X, t, epochs=10)"
   ]
  },
  {
   "cell_type": "code",
   "execution_count": 127,
   "id": "finnish-cookbook",
   "metadata": {},
   "outputs": [],
   "source": [
    "targets_list = [\n",
    "    \"bass\", \"brass\", \"flute\", \"guitar\", \"keyboard\",\n",
    "    \"mallet\", \"organ\", \"reed\", \"string\", \"synth_lead\", \"vocal\"\n",
    "]\n",
    "\n",
    "def getfiles(PATH, num_files = 100):\n",
    "    with tarfile.open(PATH, 'r:gz') as tar:\n",
    "        index = 0\n",
    "        while index < num_files:\n",
    "            fname = tar.next()\n",
    "            if fname is None: \n",
    "                break\n",
    "            if fname.name.endswith(\".wav\"):\n",
    "                wav_file = tar.extractfile(fname).read()\n",
    "                data, sr = sf.read(io.BytesIO(wav_file))\n",
    "                target = fname.name.split('/')[2].split('_')[0]\n",
    "                yield data, sr, target, targets_list.index(target) \n",
    "                index += 1"
   ]
  },
  {
   "cell_type": "code",
   "execution_count": 128,
   "id": "alive-forwarding",
   "metadata": {},
   "outputs": [],
   "source": [
    "rec = getfiles(PATH)"
   ]
  },
  {
   "cell_type": "code",
   "execution_count": 129,
   "id": "friendly-zimbabwe",
   "metadata": {},
   "outputs": [],
   "source": [
    "res = next(rec)"
   ]
  },
  {
   "cell_type": "code",
   "execution_count": 130,
   "id": "speaking-festival",
   "metadata": {},
   "outputs": [
    {
     "data": {
      "text/plain": [
       "(array([-0.00012207, -0.00445557, -0.00973511, ...,  0.        ,\n",
       "         0.        ,  0.        ]),\n",
       " 16000,\n",
       " 'mallet',\n",
       " 5)"
      ]
     },
     "execution_count": 130,
     "metadata": {},
     "output_type": "execute_result"
    }
   ],
   "source": [
    "res"
   ]
  },
  {
   "cell_type": "code",
   "execution_count": null,
   "id": "exotic-profit",
   "metadata": {},
   "outputs": [],
   "source": []
  }
 ],
 "metadata": {
  "kernelspec": {
   "display_name": "music_analysis",
   "language": "python",
   "name": "music_analysis"
  },
  "language_info": {
   "codemirror_mode": {
    "name": "ipython",
    "version": 3
   },
   "file_extension": ".py",
   "mimetype": "text/x-python",
   "name": "python",
   "nbconvert_exporter": "python",
   "pygments_lexer": "ipython3",
   "version": "3.8.6"
  }
 },
 "nbformat": 4,
 "nbformat_minor": 5
}
