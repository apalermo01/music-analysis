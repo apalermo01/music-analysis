{
 "cells": [
  {
   "cell_type": "code",
   "execution_count": 64,
   "id": "central-peter",
   "metadata": {},
   "outputs": [],
   "source": [
    "PATH = \"C:/Users/alexc/Downloads/nsynth-train.jsonwav.tar.gz\"\n",
    "import numpy as np\n",
    "import librosa\n",
    "import tarfile\n",
    "import soundfile as sf\n",
    "import io\n",
    "\n",
    "def getfiles(PATH):\n",
    "    with tarfile.open(PATH, 'r:gz') as tar:\n",
    "        index = 0\n",
    "        #while index < max_index:\n",
    "        while True:\n",
    "            fname = tar.next()\n",
    "            if fname is None: \n",
    "                break\n",
    "            if fname.name.endswith(\".wav\"):\n",
    "                wav_file = tar.extractfile(fname).read()\n",
    "                data, sr = sf.read(io.BytesIO(wav_file))\n",
    "                yield data, sr\n",
    "                "
   ]
  },
  {
   "cell_type": "code",
   "execution_count": 65,
   "id": "dependent-bread",
   "metadata": {},
   "outputs": [],
   "source": [
    "all_data = getfiles(PATH)\n",
    "\n",
    "\n"
   ]
  },
  {
   "cell_type": "code",
   "execution_count": 51,
   "id": "constant-grain",
   "metadata": {},
   "outputs": [
    {
     "name": "stdout",
     "output_type": "stream",
     "text": [
      "opening  nsynth-train/audio/mallet_acoustic_045-070-100.wav\n",
      "success\n",
      "opening  nsynth-train/audio/bass_synthetic_093-108-075.wav\n",
      "success\n",
      "opening  nsynth-train/audio/mallet_acoustic_070-051-075.wav\n",
      "success\n",
      "opening  nsynth-train/audio/keyboard_electronic_013-079-127.wav\n",
      "success\n",
      "opening  nsynth-train/audio/string_acoustic_018-030-127.wav\n",
      "success\n",
      "opening  nsynth-train/audio/keyboard_electronic_099-031-050.wav\n",
      "success\n",
      "opening  nsynth-train/audio/brass_acoustic_064-059-025.wav\n",
      "success\n",
      "opening  nsynth-train/audio/reed_acoustic_021-043-100.wav\n",
      "success\n"
     ]
    }
   ],
   "source": [
    "\n",
    "def getFftMfcc(data, sr):\n",
    "    mfcc = librosa.feature.mfcc(y=data, sr=sr)\n",
    "    mfccStr = str(list(mfcc))\n",
    "    return mfccStr\n",
    "\n",
    "\n",
    "from scipy.io import wavfile\n",
    "import librosa\n",
    "\n",
    "\n",
    "\n",
    "\n",
    "with tarfile.open(PATH, 'r:gz') as tar:\n",
    "    index = 0\n",
    "    while index < 10:\n",
    "        fname = tar.next()\n",
    "        if fname.name.endswith(\".wav\"):\n",
    "            print(\"opening \", fname.name)\n",
    "            wav_file = tar.extractfile(fname).read()\n",
    "            data, sr = sf.read(io.BytesIO(wav_file))\n",
    "            test = getFftMfcc(data, sr)\n",
    "            print(\"success\")\n",
    "        index += 1"
   ]
  }
 ],
 "metadata": {
  "kernelspec": {
   "display_name": "music_analysis",
   "language": "python",
   "name": "music_analysis"
  },
  "language_info": {
   "codemirror_mode": {
    "name": "ipython",
    "version": 3
   },
   "file_extension": ".py",
   "mimetype": "text/x-python",
   "name": "python",
   "nbconvert_exporter": "python",
   "pygments_lexer": "ipython3",
   "version": "3.8.6"
  }
 },
 "nbformat": 4,
 "nbformat_minor": 5
}
