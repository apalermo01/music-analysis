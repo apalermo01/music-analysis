{
 "cells": [
  {
   "cell_type": "markdown",
   "id": "introductory-lemon",
   "metadata": {},
   "source": [
    "# Beginning of music analysis project\n",
    "\n",
    "# 1 Survey of available datasets\n",
    "\n",
    "**interesting links**<br>\n",
    "1) https://www.juanmontesinos.com/Solos/<br>\n",
    "2) https://www.upf.edu/web/mtg/irmas<br> \n",
    "3) https://www.kaggle.com/data/65258<br> "
   ]
  },
  {
   "cell_type": "markdown",
   "id": "sharp-controversy",
   "metadata": {},
   "source": [
    "notes on Dataset \\#1 (solos)\n",
    "- appears to be links to a bunch of youtube samples"
   ]
  },
  {
   "cell_type": "markdown",
   "id": "personal-industry",
   "metadata": {},
   "source": [
    "notes on Dataset #2 (IRMAS-Sample)<br>\n",
    "- training and test sets already separated<br>\n",
    "- each datapoint is a .wav file and text file with label<br>\n"
   ]
  },
  {
   "cell_type": "markdown",
   "id": "lovely-panama",
   "metadata": {},
   "source": [
    "# Misc useful links & other tricks\n",
    "\n",
    "Create environment: `conda create --name <env name>`<br>\n",
    "Activate environment: `conda activate <env name>`<br>\n",
    "Install jupyter with `conda install jupyter`, NOT `pip install jupyter`<br>\n",
    "\n",
    "jupyter notebook not working<br>\n",
    "https://stackoverflow.com/questions/50687077/cant-run-any-ipynb-files-using-jupyter-lab-or-jupyter-notebook-filenotfounderr<br>\n",
    "\n",
    "Include button to hide code (I copied Max Masnick's solution in the first part of several of my other projects). Very useful if you're making a write-up for a non-technical audience that doesn't care about the code.<br>\n",
    "https://stackoverflow.com/questions/27934885/how-to-hide-code-from-cells-in-ipython-notebook-visualized-with-nbviewer<br>"
   ]
  },
  {
   "cell_type": "code",
   "execution_count": null,
   "id": "affected-incident",
   "metadata": {},
   "outputs": [],
   "source": []
  }
 ],
 "metadata": {
  "kernelspec": {
   "display_name": "Python 3",
   "language": "python",
   "name": "python3"
  },
  "language_info": {
   "codemirror_mode": {
    "name": "ipython",
    "version": 3
   },
   "file_extension": ".py",
   "mimetype": "text/x-python",
   "name": "python",
   "nbconvert_exporter": "python",
   "pygments_lexer": "ipython3",
   "version": "3.9.1"
  }
 },
 "nbformat": 4,
 "nbformat_minor": 5
}
