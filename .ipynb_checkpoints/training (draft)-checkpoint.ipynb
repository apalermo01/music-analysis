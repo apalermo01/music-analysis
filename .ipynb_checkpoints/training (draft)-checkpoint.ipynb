{
 "cells": [
  {
   "cell_type": "markdown",
   "id": "traditional-penetration",
   "metadata": {},
   "source": [
    "# MySQL database initialization"
   ]
  },
  {
   "cell_type": "code",
   "execution_count": 1,
   "id": "social-baseline",
   "metadata": {},
   "outputs": [],
   "source": [
    "import mysql.connector as mysql"
   ]
  },
  {
   "cell_type": "code",
   "execution_count": 4,
   "id": "operating-boston",
   "metadata": {},
   "outputs": [
    {
     "name": "stdout",
     "output_type": "stream",
     "text": [
      "Enter username: apalermo01\n",
      "Enter password: ········\n",
      "<mysql.connector.connection_cext.CMySQLConnection object at 0x000002D0C57DB8B0>\n"
     ]
    }
   ],
   "source": [
    "from mysql.connector import connect, Error\n",
    "from getpass import getpass\n",
    "try:\n",
    "    with connect(\n",
    "    host=\"localhost\",\n",
    "    user=input(\"Enter username: \"),\n",
    "    password=getpass(\"Enter password: \")) as connection:\n",
    "        print(connection)\n",
    "except Error as e:\n",
    "    print(e)"
   ]
  },
  {
   "cell_type": "code",
   "execution_count": 6,
   "id": "developed-arrival",
   "metadata": {},
   "outputs": [
    {
     "name": "stdout",
     "output_type": "stream",
     "text": [
      "Enter username: apalermo01\n",
      "Enter password: ········\n",
      "<mysql.connector.connection_cext.CMySQLConnection object at 0x000002D0C57E52E0>\n"
     ]
    },
    {
     "ename": "AttributeError",
     "evalue": "'CMySQLCursor' object has no attribute 'executescript'",
     "output_type": "error",
     "traceback": [
      "\u001b[1;31m---------------------------------------------------------------------------\u001b[0m",
      "\u001b[1;31mAttributeError\u001b[0m                            Traceback (most recent call last)",
      "\u001b[1;32m<ipython-input-6-f15cd5d7ab24>\u001b[0m in \u001b[0;36m<module>\u001b[1;34m\u001b[0m\n\u001b[0;32m      9\u001b[0m         \u001b[1;32mwith\u001b[0m \u001b[0mopen\u001b[0m\u001b[1;33m(\u001b[0m\u001b[1;34m\"Dump20210313_test.sql\"\u001b[0m\u001b[1;33m)\u001b[0m \u001b[1;32mas\u001b[0m \u001b[0mf\u001b[0m\u001b[1;33m:\u001b[0m\u001b[1;33m\u001b[0m\u001b[1;33m\u001b[0m\u001b[0m\n\u001b[0;32m     10\u001b[0m             \u001b[0msql_script\u001b[0m \u001b[1;33m=\u001b[0m \u001b[0mf\u001b[0m\u001b[1;33m.\u001b[0m\u001b[0mread\u001b[0m\u001b[1;33m(\u001b[0m\u001b[1;33m)\u001b[0m\u001b[1;33m\u001b[0m\u001b[1;33m\u001b[0m\u001b[0m\n\u001b[1;32m---> 11\u001b[1;33m             \u001b[0mcursor\u001b[0m\u001b[1;33m.\u001b[0m\u001b[0mexecutescript\u001b[0m\u001b[1;33m(\u001b[0m\u001b[0msql_script\u001b[0m\u001b[1;33m)\u001b[0m\u001b[1;33m\u001b[0m\u001b[1;33m\u001b[0m\u001b[0m\n\u001b[0m\u001b[0;32m     12\u001b[0m \u001b[1;32mexcept\u001b[0m \u001b[0mError\u001b[0m \u001b[1;32mas\u001b[0m \u001b[0me\u001b[0m\u001b[1;33m:\u001b[0m\u001b[1;33m\u001b[0m\u001b[1;33m\u001b[0m\u001b[0m\n\u001b[0;32m     13\u001b[0m     \u001b[0mprint\u001b[0m\u001b[1;33m(\u001b[0m\u001b[0me\u001b[0m\u001b[1;33m)\u001b[0m\u001b[1;33m\u001b[0m\u001b[1;33m\u001b[0m\u001b[0m\n",
      "\u001b[1;31mAttributeError\u001b[0m: 'CMySQLCursor' object has no attribute 'executescript'"
     ]
    }
   ],
   "source": [
    "try:\n",
    "    with connect(\n",
    "    host=\"localhost\",\n",
    "    user=input(\"Enter username: \"),\n",
    "    password=getpass(\"Enter password: \")) as connection:\n",
    "        print(connection)\n",
    "        \n",
    "        cursor = connection.cursor()\n",
    "        with open(\"Dump20210313_test.sql\") as f:\n",
    "            sql_script = f.read()\n",
    "            cursor.execute(sql_script)\n",
    "except Error as e:\n",
    "    print(e)"
   ]
  },
  {
   "cell_type": "code",
   "execution_count": null,
   "id": "humanitarian-economy",
   "metadata": {},
   "outputs": [],
   "source": []
  }
 ],
 "metadata": {
  "kernelspec": {
   "display_name": "music_analysis",
   "language": "python",
   "name": "music_analysis"
  },
  "language_info": {
   "codemirror_mode": {
    "name": "ipython",
    "version": 3
   },
   "file_extension": ".py",
   "mimetype": "text/x-python",
   "name": "python",
   "nbconvert_exporter": "python",
   "pygments_lexer": "ipython3",
   "version": "3.8.6"
  }
 },
 "nbformat": 4,
 "nbformat_minor": 5
}
