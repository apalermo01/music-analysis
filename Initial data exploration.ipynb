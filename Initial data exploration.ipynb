{
 "cells": [
  {
   "cell_type": "markdown",
   "id": "constitutional-isolation",
   "metadata": {},
   "source": [
    "# Beginning of music analysis project\n",
    "\n",
    "# 1 Survey of available datasets\n",
    "\n",
    "**interesting links**<br>\n",
    "1) https://www.juanmontesinos.com/Solos/<br>\n",
    "2) https://www.upf.edu/web/mtg/irmas<br> \n",
    "3) https://www.kaggle.com/data/65258<br> "
   ]
  },
  {
   "cell_type": "markdown",
   "id": "outdoor-local",
   "metadata": {},
   "source": [
    "notes on Dataset \\#1 (solos)\n",
    "- appears to be links to a bunch of youtube samples"
   ]
  },
  {
   "cell_type": "markdown",
   "id": "direct-chile",
   "metadata": {},
   "source": [
    "notes on Dataset #2 (IRMAS-Sample)<br>\n",
    "- training and test sets already separated<br>\n",
    "- each datapoint is a .wav file and text file with label<br>\n"
   ]
  },
  {
   "cell_type": "markdown",
   "id": "accurate-edinburgh",
   "metadata": {},
   "source": [
    "# Following librosa quickstart\n",
    "\n",
    "# VERY VERY IMPORTANT NOTE: LIBROSA DOES NOT WORK WITH THE LATEST VERSION OF PYTHON (3.9)- I am using 3.7 for this project\n",
    "\n",
    "If you already made your environment with python 3.9, run the following: <br>\n",
    "`conda install python=3.7`<br>\n",
    "\n",
    "Numpy got upset when I tried to run librosa so you need to re-install numpy if you made the environment with python=3.9<br>\n",
    "I don't think this will be necessary if you made your environment with 3.7<br>\n",
    "`pip uninstall numpy`<br>\n",
    "`pip install numpy`<br>\n",
    "\n",
    "When I ran the numpy stuff, streamlit started throwing a bunch of errors in the anaconda prompt so I re-installed that as well. <br>\n",
    "`pip uninstall streamlit`<br>\n",
    "`pip install streamlit`<br>"
   ]
  },
  {
   "cell_type": "code",
   "execution_count": 6,
   "id": "eastern-ground",
   "metadata": {
    "scrolled": true
   },
   "outputs": [],
   "source": [
    "import librosa\n",
    "\n",
    "# Get filepath to an audio example\n",
    "filename = librosa.example('nutcracker')"
   ]
  },
  {
   "cell_type": "code",
   "execution_count": 7,
   "id": "continued-mills",
   "metadata": {},
   "outputs": [],
   "source": [
    "# load audio as a waveform (y), load the sample rate as sr\n",
    "y, sr = librosa.load(filename)"
   ]
  },
  {
   "cell_type": "code",
   "execution_count": 8,
   "id": "accredited-clerk",
   "metadata": {},
   "outputs": [],
   "source": [
    "# Run the default beat tracker\n",
    "tempo, beat_frames = librosa.beat.beat_track(y=y, sr=sr)"
   ]
  },
  {
   "cell_type": "markdown",
   "id": "similar-fortune",
   "metadata": {},
   "source": [
    "# Misc useful links & other tricks\n",
    "\n",
    "Create environment: `conda create --name <env name>`<br>\n",
    "Activate environment: `conda activate <env name>`<br>\n",
    "Install jupyter with `conda install jupyter`, NOT `pip install jupyter`<br>\n",
    "\n",
    "jupyter notebook not working<br>\n",
    "https://stackoverflow.com/questions/50687077/cant-run-any-ipynb-files-using-jupyter-lab-or-jupyter-notebook-filenotfounderr<br>\n",
    "\n",
    "Include button to hide code (I copied Max Masnick's solution in the first part of several of my other projects). Very useful if you're making a write-up for a non-technical audience that doesn't care about the code.<br>\n",
    "https://stackoverflow.com/questions/27934885/how-to-hide-code-from-cells-in-ipython-notebook-visualized-with-nbviewer<br>"
   ]
  }
 ],
 "metadata": {
  "kernelspec": {
   "display_name": "Python 3",
   "language": "python",
   "name": "python3"
  },
  "language_info": {
   "codemirror_mode": {
    "name": "ipython",
    "version": 3
   },
   "file_extension": ".py",
   "mimetype": "text/x-python",
   "name": "python",
   "nbconvert_exporter": "python",
   "pygments_lexer": "ipython3",
   "version": "3.7.9"
  }
 },
 "nbformat": 4,
 "nbformat_minor": 5
}
