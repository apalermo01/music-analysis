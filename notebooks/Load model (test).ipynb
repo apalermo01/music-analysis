{
 "cells": [
  {
   "cell_type": "markdown",
   "id": "fc47d429",
   "metadata": {},
   "source": [
    "# Test plotting on one trained model\n",
    "\n",
    "## Imports and paths"
   ]
  },
  {
   "cell_type": "code",
   "execution_count": 1,
   "id": "6cac6533",
   "metadata": {},
   "outputs": [],
   "source": [
    "# Absolute paths\n",
    "CHECKPOINT_PATH = \"/home/alex/Documents/MIR_trained_models/\"\n",
    "DATASET_PATH = \"/home/alex/Documents/Datasets/\"\n",
    "\n",
    "# imports \n",
    "import os\n",
    "import torch\n",
    "from models_dict import models_dict\n",
    "import models\n",
    "import dataset\n",
    "from dataset import prep_dataset\n",
    "import numpy as np\n",
    "from torchsummary import summary"
   ]
  },
  {
   "cell_type": "markdown",
   "id": "630f4aa2",
   "metadata": {},
   "source": [
    "## Get keys to one model and try re-creating from ONLY the model checkpoint"
   ]
  },
  {
   "cell_type": "code",
   "execution_count": 2,
   "id": "fe2980bf",
   "metadata": {},
   "outputs": [
    {
     "data": {
      "text/plain": [
       "dict_keys(['filename', 'epochs', 'model_id', 'model_state_dict', 'model_args', 'metrics', 'dataset_info', 'notes', 'summary', 'experiment_params'])"
      ]
     },
     "execution_count": 2,
     "metadata": {},
     "output_type": "execute_result"
    }
   ],
   "source": [
    "checkpoint_file = CHECKPOINT_PATH + \"DELETE_THIS_TESTING.pt\"\n",
    "checkpoint = torch.load(checkpoint_file)\n",
    "checkpoint.keys()"
   ]
  },
  {
   "cell_type": "code",
   "execution_count": 3,
   "id": "9d8b1fe2",
   "metadata": {},
   "outputs": [
    {
     "data": {
      "text/plain": [
       "{'channels': [8, 8, 32, 32, 64],\n",
       " 'conv_kernel_sizes': [3, 3, 3, 3, 3],\n",
       " 'conv_strides': [1, 1, 1, 1, 1],\n",
       " 'conv_paddings': [1, 1, 1, 1, 1],\n",
       " 'pool_masks': [True, True, True, True, True],\n",
       " 'pool_kernel_sizes': [2, 2, 2, (1, 2), (1, 2)],\n",
       " 'pool_strides': [2, 2, 2, (1, 2), (1, 2)],\n",
       " 'linear_features': [128, 64],\n",
       " 'dropout_probs': [0, 0]}"
      ]
     },
     "execution_count": 3,
     "metadata": {},
     "output_type": "execute_result"
    }
   ],
   "source": [
    "checkpoint['model_args']"
   ]
  },
  {
   "cell_type": "markdown",
   "id": "486905b6",
   "metadata": {},
   "source": [
    "## Get one mfcc for initialization"
   ]
  },
  {
   "cell_type": "code",
   "execution_count": 4,
   "id": "c15c6273",
   "metadata": {},
   "outputs": [],
   "source": [
    "train_loader, val_loader, dataset = prep_dataset(\n",
    "    filename=\"irmas_data_mfcc13_hop_length256_n_fft2048.json\",\n",
    "    batch_size=1, val_split=0.2)\n",
    "single_sample = dataset[0]\n"
   ]
  },
  {
   "cell_type": "code",
   "execution_count": 5,
   "id": "bb9ff720",
   "metadata": {},
   "outputs": [],
   "source": [
    "one_mfcc = np.array(single_sample['mfccs'])"
   ]
  },
  {
   "cell_type": "code",
   "execution_count": 6,
   "id": "ceffa935",
   "metadata": {},
   "outputs": [
    {
     "data": {
      "text/plain": [
       "==========================================================================================\n",
       "Layer (type:depth-idx)                   Output Shape              Param #\n",
       "==========================================================================================\n",
       "├─ConvBlock: 1-1                         [-1, 8, 6, 258]           --\n",
       "|    └─Sequential: 2-1                   [-1, 8, 6, 258]           --\n",
       "|    |    └─Conv2d: 3-1                  [-1, 8, 13, 517]          80\n",
       "|    |    └─ReLU: 3-2                    [-1, 8, 13, 517]          --\n",
       "|    |    └─MaxPool2d: 3-3               [-1, 8, 6, 258]           --\n",
       "|    |    └─BatchNorm2d: 3-4             [-1, 8, 6, 258]           16\n",
       "├─ConvBlock: 1-2                         [-1, 8, 3, 129]           --\n",
       "|    └─Sequential: 2-2                   [-1, 8, 3, 129]           --\n",
       "|    |    └─Conv2d: 3-5                  [-1, 8, 6, 258]           584\n",
       "|    |    └─ReLU: 3-6                    [-1, 8, 6, 258]           --\n",
       "|    |    └─MaxPool2d: 3-7               [-1, 8, 3, 129]           --\n",
       "|    |    └─BatchNorm2d: 3-8             [-1, 8, 3, 129]           16\n",
       "├─ConvBlock: 1-3                         [-1, 32, 1, 64]           --\n",
       "|    └─Sequential: 2-3                   [-1, 32, 1, 64]           --\n",
       "|    |    └─Conv2d: 3-9                  [-1, 32, 3, 129]          2,336\n",
       "|    |    └─ReLU: 3-10                   [-1, 32, 3, 129]          --\n",
       "|    |    └─MaxPool2d: 3-11              [-1, 32, 1, 64]           --\n",
       "|    |    └─BatchNorm2d: 3-12            [-1, 32, 1, 64]           64\n",
       "├─ConvBlock: 1-4                         [-1, 32, 1, 32]           --\n",
       "|    └─Sequential: 2-4                   [-1, 32, 1, 32]           --\n",
       "|    |    └─Conv2d: 3-13                 [-1, 32, 1, 64]           9,248\n",
       "|    |    └─ReLU: 3-14                   [-1, 32, 1, 64]           --\n",
       "|    |    └─MaxPool2d: 3-15              [-1, 32, 1, 32]           --\n",
       "|    |    └─BatchNorm2d: 3-16            [-1, 32, 1, 32]           64\n",
       "├─ConvBlock: 1-5                         [-1, 64, 1, 16]           --\n",
       "|    └─Sequential: 2-5                   [-1, 64, 1, 16]           --\n",
       "|    |    └─Conv2d: 3-17                 [-1, 64, 1, 32]           18,496\n",
       "|    |    └─ReLU: 3-18                   [-1, 64, 1, 32]           --\n",
       "|    |    └─MaxPool2d: 3-19              [-1, 64, 1, 16]           --\n",
       "|    |    └─BatchNorm2d: 3-20            [-1, 64, 1, 16]           128\n",
       "├─LinearBlock: 1-6                       [-1, 128]                 --\n",
       "|    └─Sequential: 2-6                   [-1, 128]                 --\n",
       "|    |    └─Linear: 3-21                 [-1, 128]                 131,200\n",
       "|    |    └─ReLU: 3-22                   [-1, 128]                 --\n",
       "|    |    └─BatchNorm1d: 3-23            [-1, 128]                 256\n",
       "|    |    └─Dropout: 3-24                [-1, 128]                 --\n",
       "├─LinearBlock: 1-7                       [-1, 64]                  --\n",
       "|    └─Sequential: 2-7                   [-1, 64]                  --\n",
       "|    |    └─Linear: 3-25                 [-1, 64]                  8,256\n",
       "|    |    └─ReLU: 3-26                   [-1, 64]                  --\n",
       "|    |    └─BatchNorm1d: 3-27            [-1, 64]                  128\n",
       "|    |    └─Dropout: 3-28                [-1, 64]                  --\n",
       "├─HeadBlock: 1-8                         [-1, 11]                  --\n",
       "|    └─Sequential: 2-8                   [-1, 11]                  --\n",
       "|    |    └─Linear: 3-29                 [-1, 11]                  715\n",
       "==========================================================================================\n",
       "Total params: 171,587\n",
       "Trainable params: 171,587\n",
       "Non-trainable params: 0\n",
       "Total mult-adds (M): 3.93\n",
       "==========================================================================================\n",
       "Input size (MB): 0.03\n",
       "Forward/backward pass size (MB): 0.78\n",
       "Params size (MB): 0.65\n",
       "Estimated Total Size (MB): 1.46\n",
       "=========================================================================================="
      ]
     },
     "execution_count": 6,
     "metadata": {},
     "output_type": "execute_result"
    }
   ],
   "source": [
    "model = models_dict[checkpoint['model_id']](one_mfcc, **checkpoint['model_args'])\n",
    "summary(model, one_mfcc.shape, verbose=0)"
   ]
  },
  {
   "cell_type": "code",
   "execution_count": 7,
   "id": "19f02f09",
   "metadata": {},
   "outputs": [
    {
     "data": {
      "text/plain": [
       "dict_keys(['avg_train_loss_hist', 'std_train_loss_hist', 'avg_val_loss_hist', 'std_val_loss_hist', 'train_acc_hist', 'train_prec_hist', 'train_recall_hist', 'train_f1_hist', 'val_acc_hist', 'val_prec_hist', 'val_recall_hist', 'val_f1_hist'])"
      ]
     },
     "execution_count": 7,
     "metadata": {},
     "output_type": "execute_result"
    }
   ],
   "source": [
    "checkpoint['metrics'].keys()"
   ]
  },
  {
   "cell_type": "code",
   "execution_count": 12,
   "id": "bf14d013",
   "metadata": {},
   "outputs": [
    {
     "data": {
      "text/plain": [
       "<matplotlib.legend.Legend at 0x7fd5f34bbbe0>"
      ]
     },
     "execution_count": 12,
     "metadata": {},
     "output_type": "execute_result"
    },
    {
     "data": {
      "image/png": "[encoded data removed]",
      "text/plain": [
       "<Figure size 432x288 with 1 Axes>"
      ]
     },
     "metadata": {
      "needs_background": "light"
     },
     "output_type": "display_data"
    }
   ],
   "source": [
    "import matplotlib.pyplot as plt\n",
    "\n",
    "plt.plot(checkpoint['metrics']['avg_train_loss_hist'], label=\"train loss\")\n",
    "plt.plot(checkpoint['metrics']['avg_val_loss_hist'], label=\"val loss\")\n",
    "plt.legend()"
   ]
  },
  {
   "cell_type": "code",
   "execution_count": null,
   "id": "8d2db4e8",
   "metadata": {},
   "outputs": [],
   "source": []
  }
 ],
 "metadata": {
  "kernelspec": {
   "display_name": "Python 3",
   "language": "python",
   "name": "python3"
  },
  "language_info": {
   "codemirror_mode": {
    "name": "ipython",
    "version": 3
   },
   "file_extension": ".py",
   "mimetype": "text/x-python",
   "name": "python",
   "nbconvert_exporter": "python",
   "pygments_lexer": "ipython3",
   "version": "3.8.8"
  }
 },
 "nbformat": 4,
 "nbformat_minor": 5
}
