{
 "cells": [
  {
   "cell_type": "markdown",
   "metadata": {},
   "source": [
    "# Beginning of music analysis project\n",
    "\n",
    "# 1 Survey of available datasets\n",
    "\n",
    "**interesting links**<br>\n",
    "1) https://www.juanmontesinos.com/Solos/<br>\n",
    "2) https://www.upf.edu/web/mtg/irmas<br> \n",
    "3) https://www.kaggle.com/data/65258<br> "
   ]
  },
  {
   "cell_type": "markdown",
   "metadata": {},
   "source": [
    "notes on Dataset \\#1 (solos)\n",
    "- appears to be links to a bunch of youtube samples"
   ]
  },
  {
   "cell_type": "markdown",
   "metadata": {},
   "source": [
    "notes on Dataset #2 (IRMAS-Sample)<br>\n",
    "- training and test sets already separated<br>\n",
    "- each datapoint is a .wav file and text file with label<br>\n"
   ]
  },
  {
   "cell_type": "markdown",
   "metadata": {},
   "source": [
    "# 1 Following librosa quickstart\n",
    "\n",
    "## VERY VERY IMPORTANT NOTE: LIBROSA DOES NOT WORK WITH THE LATEST VERSION OF PYTHON (3.9)- I am using 3.8 for this project"
   ]
  },
  {
   "cell_type": "code",
   "execution_count": null,
   "metadata": {},
   "outputs": [],
   "source": [
    "import librosa\n",
    "import matplotlib.pyplot as plt"
   ]
  },
  {
   "cell_type": "code",
   "execution_count": null,
   "metadata": {
    "scrolled": true
   },
   "outputs": [],
   "source": [
    "# Get filepath to an audio example\n",
    "filename = librosa.example('nutcracker')"
   ]
  },
  {
   "cell_type": "code",
   "execution_count": null,
   "metadata": {},
   "outputs": [],
   "source": [
    "from IPython.display import Audio"
   ]
  },
  {
   "cell_type": "code",
   "execution_count": null,
   "metadata": {},
   "outputs": [],
   "source": [
    "# load audio as a waveform (y), load the sample rate as sr\n",
    "# by default: mono, sample rate = 22050Hz\n",
    "y, sr = librosa.load(filename)"
   ]
  },
  {
   "cell_type": "code",
   "execution_count": null,
   "metadata": {},
   "outputs": [],
   "source": [
    "plt.plot(y)"
   ]
  },
  {
   "cell_type": "code",
   "execution_count": null,
   "metadata": {},
   "outputs": [],
   "source": [
    "test = Audio(y, rate=sr)"
   ]
  },
  {
   "cell_type": "code",
   "execution_count": null,
   "metadata": {},
   "outputs": [],
   "source": [
    "test"
   ]
  },
  {
   "cell_type": "code",
   "execution_count": null,
   "metadata": {},
   "outputs": [],
   "source": [
    "# Run the default beat tracker\n",
    "tempo, beat_frames = librosa.beat.beat_track(y=y, sr=sr)"
   ]
  },
  {
   "cell_type": "code",
   "execution_count": null,
   "metadata": {},
   "outputs": [],
   "source": [
    "tempo"
   ]
  },
  {
   "cell_type": "code",
   "execution_count": null,
   "metadata": {},
   "outputs": [],
   "source": [
    "beat_times = librosa.frames_to_time(beat_frames, sr=sr)"
   ]
  },
  {
   "cell_type": "code",
   "execution_count": null,
   "metadata": {},
   "outputs": [],
   "source": [
    "beat_times"
   ]
  },
  {
   "cell_type": "markdown",
   "metadata": {},
   "source": [
    "## More advanced usage"
   ]
  },
  {
   "cell_type": "code",
   "execution_count": null,
   "metadata": {},
   "outputs": [],
   "source": [
    "# load example clip\n",
    "y, sr = librosa.load(librosa.ex('nutcracker'))\n",
    "\n",
    "# set hop length\n",
    "hop_length = 512\n",
    "\n",
    "# separate harmonics and percussives into two waveforms\n",
    "y_harmonic, y_percussive = librosa.effects.hpss(y)"
   ]
  },
  {
   "cell_type": "code",
   "execution_count": null,
   "metadata": {},
   "outputs": [],
   "source": [
    "plt.plot(y_harmonic)\n",
    "plt.title(\"harmonic\")\n",
    "plt.show()\n",
    "\n",
    "plt.plot(y_percussive)\n",
    "plt.title(\"percussive\")\n",
    "plt.show()"
   ]
  },
  {
   "cell_type": "code",
   "execution_count": null,
   "metadata": {},
   "outputs": [],
   "source": [
    "Audio(y_harmonic, rate=sr)"
   ]
  },
  {
   "cell_type": "code",
   "execution_count": null,
   "metadata": {},
   "outputs": [],
   "source": [
    "Audio(y_percussive, rate=sr)"
   ]
  },
  {
   "cell_type": "code",
   "execution_count": null,
   "metadata": {},
   "outputs": [],
   "source": [
    "# beat track on percussive signal\n",
    "tempo, beat_frames = librosa.beat.beat_track(y=y_percussive, sr=sr)"
   ]
  },
  {
   "cell_type": "code",
   "execution_count": null,
   "metadata": {},
   "outputs": [],
   "source": [
    "tempo"
   ]
  },
  {
   "cell_type": "code",
   "execution_count": null,
   "metadata": {},
   "outputs": [],
   "source": [
    "# compute MFCC features from raw signal\n",
    "mfcc = librosa.feature.mfcc(y=y, sr=sr, hop_length=hop_length, n_mfcc=13)"
   ]
  },
  {
   "cell_type": "code",
   "execution_count": null,
   "metadata": {},
   "outputs": [],
   "source": [
    "mfcc"
   ]
  },
  {
   "cell_type": "markdown",
   "metadata": {},
   "source": [
    "**Info on MFCC:** https://en.wikipedia.org/wiki/Mel-frequency_cepstrum"
   ]
  },
  {
   "cell_type": "code",
   "execution_count": null,
   "metadata": {},
   "outputs": [],
   "source": [
    "# Add first-order differences (delta features)\n",
    "mfcc_delta = librosa.feature.delta(mfcc)"
   ]
  },
  {
   "cell_type": "code",
   "execution_count": null,
   "metadata": {},
   "outputs": [],
   "source": [
    "mfcc_delta"
   ]
  },
  {
   "cell_type": "code",
   "execution_count": null,
   "metadata": {},
   "outputs": [],
   "source": [
    "import numpy as np"
   ]
  },
  {
   "cell_type": "code",
   "execution_count": null,
   "metadata": {},
   "outputs": [],
   "source": [
    "# stack and synchronize between beat events\n",
    "# use the mean value instead of median\n",
    "beat_mfcc_delta = librosa.util.sync(np.vstack([mfcc, mfcc_delta]), \n",
    "                                   beat_frames)\n",
    "\n",
    "# Compute chroma feature from the harmonic signal\n",
    "chromagram = librosa.feature.chroma_cqt(y=y_harmonic, sr=sr)"
   ]
  },
  {
   "cell_type": "code",
   "execution_count": null,
   "metadata": {},
   "outputs": [],
   "source": [
    "# Aggregate chroma feature between beat events\n",
    "# use the median value of each feature between beat frames\n",
    "beat_chroma = librosa.util.sync(chromagram, beat_frames, aggregate=np.median)"
   ]
  },
  {
   "cell_type": "code",
   "execution_count": null,
   "metadata": {},
   "outputs": [],
   "source": [
    "# stack all beat-synchronous features together\n",
    "beat_features = np.vstack([beat_chroma, beat_mfcc_delta])"
   ]
  },
  {
   "cell_type": "markdown",
   "metadata": {},
   "source": [
    "## 1.2 Messing around with other tracks\n",
    "\n",
    "converter: https://ontiva.com/en/youtube-to-wav-converter\n",
    "\n",
    "Source: https://www.youtube.com/watch?v=C9vN6nZawvU"
   ]
  },
  {
   "cell_type": "code",
   "execution_count": null,
   "metadata": {},
   "outputs": [],
   "source": [
    "y2, sr = librosa.load(\"Ensiferum_Twilight_Tavern.wav\")"
   ]
  },
  {
   "cell_type": "code",
   "execution_count": null,
   "metadata": {},
   "outputs": [],
   "source": [
    "Audio(y2, rate=sr)"
   ]
  },
  {
   "cell_type": "code",
   "execution_count": null,
   "metadata": {},
   "outputs": [],
   "source": [
    "plt.plot(y2)"
   ]
  },
  {
   "cell_type": "code",
   "execution_count": null,
   "metadata": {},
   "outputs": [],
   "source": [
    "y2_harmonic, y2_percussive = librosa.effects.hpss(y2)\n",
    "Audio(y2_harmonic, rate=sr)"
   ]
  },
  {
   "cell_type": "code",
   "execution_count": null,
   "metadata": {},
   "outputs": [],
   "source": [
    "Audio(y2_percussive, rate=sr)"
   ]
  },
  {
   "cell_type": "markdown",
   "metadata": {},
   "source": [
    "harmonic: lead guitars, strings, bass, half of the rhythm guitar, and part of the vocals<br>\n",
    "percussive: kick / snare drums, harsh vocals<br>"
   ]
  },
  {
   "cell_type": "markdown",
   "metadata": {},
   "source": [
    "Source: https://www.youtube.com/watch?v=-C5LcGNLppk"
   ]
  },
  {
   "cell_type": "code",
   "execution_count": null,
   "metadata": {},
   "outputs": [],
   "source": [
    "y_aal, sr = librosa.load(\"AAL_Tempting_Time.wav\", sr=44100)\n",
    "Audio(y_aal, rate=sr)"
   ]
  },
  {
   "cell_type": "code",
   "execution_count": null,
   "metadata": {},
   "outputs": [],
   "source": [
    "y_aal_harmonic, y_aal_percussive = librosa.effects.hpss(y_aal)\n",
    "Audio(y_aal_harmonic, rate=sr)"
   ]
  },
  {
   "cell_type": "code",
   "execution_count": null,
   "metadata": {},
   "outputs": [],
   "source": [
    "Audio(y_aal_percussive, rate=sr)"
   ]
  },
  {
   "cell_type": "markdown",
   "metadata": {},
   "source": [
    "Idea: use these to generate tempo maps for absurdly complicated songs (e.g. [The Dance of Eternity](https://www.youtube.com/watch?v=FwkcRTNMsWs))"
   ]
  },
  {
   "cell_type": "markdown",
   "metadata": {},
   "source": [
    "# 2 Loading some sample data\n",
    "# 2.1 IRMAS"
   ]
  },
  {
   "cell_type": "code",
   "execution_count": null,
   "metadata": {},
   "outputs": [],
   "source": [
    "ytest, sr = librosa.load(\"IRMAS-Sample/Testing/14.  Boots Randolph - Yakety Sax-1.wav\")\n",
    "Audio(ytest, rate=sr)"
   ]
  },
  {
   "cell_type": "code",
   "execution_count": null,
   "metadata": {},
   "outputs": [],
   "source": [
    "ytest, sr = librosa.load(\"IRMAS-Sample/Testing/12 What'll I Do - Bud Shank And Bob-4.wav\")\n",
    "Audio(ytest, rate=sr)"
   ]
  },
  {
   "cell_type": "code",
   "execution_count": null,
   "metadata": {},
   "outputs": [],
   "source": [
    "ytest, sr = librosa.load(\"IRMAS-Sample/Training/sax/118__[sax][nod][jaz_blu]1702__3.wav\")\n",
    "Audio(ytest, rate=sr)"
   ]
  },
  {
   "cell_type": "markdown",
   "metadata": {},
   "source": [
    "# 2.2 Solos: https://arxiv.org/abs/2006.07931\n",
    "\n",
    "Dataset imported using `pip install solos`<br>\n",
    "https://www.juanmontesinos.com/Solos/python/"
   ]
  },
  {
   "cell_type": "code",
   "execution_count": null,
   "metadata": {},
   "outputs": [],
   "source": [
    "import Solos"
   ]
  },
  {
   "cell_type": "code",
   "execution_count": null,
   "metadata": {},
   "outputs": [],
   "source": [
    "Solos.get_solos_ids()"
   ]
  },
  {
   "cell_type": "markdown",
   "metadata": {},
   "source": [
    "Copy some code from [youtubesaver.py](https://github.com/JuanFMontesinos/Solos/blob/master/youtubesaver.py) to download one of these videos"
   ]
  },
  {
   "cell_type": "code",
   "execution_count": null,
   "metadata": {},
   "outputs": [],
   "source": [
    "import youtube_dl as _youtube_dl"
   ]
  },
  {
   "cell_type": "code",
   "execution_count": null,
   "metadata": {},
   "outputs": [],
   "source": [
    "video_id = '5w35MH2IP28'\n",
    "\n",
    "outtmpl = '%(id)s.%(ext)s'\n",
    "ydl_opts = {\n",
    "            'format': 'bestvideo+bestaudio',\n",
    "            'outtmpl': outtmpl,\n",
    "            \"\"\"\n",
    "            'postprocessors': [{\n",
    "                'key': 'FFmpegExtractAudio',\n",
    "                'preferredcodec': 'mp3',\n",
    "                'preferredquality': '192',\n",
    "            }],\n",
    "            \"\"\"\n",
    "            'logger': None\n",
    "        }\n",
    "\n",
    "with _youtube_dl.YoutubeDL(ydl_opts) as ydl:\n",
    "    test = ydl.download(['https://www.youtube.com/watch?v=%s' % video_id])\n",
    "    print(\"this is printing so no errors are thrown if ydl.download is commented\")"
   ]
  },
  {
   "cell_type": "code",
   "execution_count": null,
   "metadata": {},
   "outputs": [],
   "source": [
    "test"
   ]
  },
  {
   "cell_type": "markdown",
   "metadata": {},
   "source": [
    "**TODO**: This code downloaded a youtube video into the current directory (mp4). Figure out how to get the audio from this. \n",
    "\n",
    "**TODO**: search for other datasets that are audio only\n",
    "\n",
    "https://brianmcfee.net/papers/ismir2018_openmic.pdf\n",
    "\n",
    "**TODO**: Figure out what a bunch of these terms in the librosa library actually mean\n",
    "\n",
    "**Idea**: Look into the source code in librosa for the harmonic / percussion split- this might give use extra ideas for our own work"
   ]
  },
  {
   "cell_type": "markdown",
   "id": "minor-recording",
   "metadata": {},
   "source": [
    "## update 2/7- running a few things from echorne_draft"
   ]
  },
  {
   "cell_type": "code",
   "execution_count": 1,
   "id": "threatened-member",
   "metadata": {},
   "outputs": [],
   "source": [
    "from os import walk"
   ]
  },
  {
   "cell_type": "code",
   "execution_count": 2,
   "id": "available-cruise",
   "metadata": {},
   "outputs": [
    {
     "data": {
      "text/plain": [
       "[]"
      ]
     },
     "execution_count": 2,
     "metadata": {},
     "output_type": "execute_result"
    }
   ],
   "source": [
    "acousticGuitars = []\n",
    "musicFolder = '../../music-data/'\n",
    "testFolder = 'nsynth-valid/audio/'\n",
    "for root, dirs, files in walk(musicFolder+testFolder):\n",
    "    for file in files:\n",
    "        if file.startswith('guitar_acoustic') and file.endswith('.wav'):\n",
    "            acousticGuitars.append(file)\n",
    "    break\n",
    "acousticGuitars[:20]"
   ]
  },
  {
   "cell_type": "markdown",
   "id": "cardiac-provider",
   "metadata": {},
   "source": [
    "# Misc useful links & other tricks\n",
    "\n",
    "Create environment: `conda create --name <env name>`<br>\n",
    "Activate environment: `conda activate <env name>`<br>\n",
    "Install jupyter with `conda install jupyter`, NOT `pip install jupyter`<br>\n",
    "\n",
    "jupyter notebook not working<br>\n",
    "https://stackoverflow.com/questions/50687077/cant-run-any-ipynb-files-using-jupyter-lab-or-jupyter-notebook-filenotfounderr<br>\n",
    "\n",
    "Include button to hide code (I copied Max Masnick's solution in the first part of several of my other projects). Very useful if you're making a write-up for a non-technical audience that doesn't care about the code.<br>\n",
    "https://stackoverflow.com/questions/27934885/how-to-hide-code-from-cells-in-ipython-notebook-visualized-with-nbviewer<br>"
   ]
  }
 ],
 "metadata": {
  "kernelspec": {
   "display_name": "Python 3",
   "language": "python",
   "name": "python3"
  },
  "language_info": {
   "codemirror_mode": {
    "name": "ipython",
    "version": 3
   },
   "file_extension": ".py",
   "mimetype": "text/x-python",
   "name": "python",
   "nbconvert_exporter": "python",
   "pygments_lexer": "ipython3",
   "version": "3.8.5"
  }
 },
 "nbformat": 4,
 "nbformat_minor": 5
}
