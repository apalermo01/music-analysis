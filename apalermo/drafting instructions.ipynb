{
 "cells": [
  {
   "cell_type": "markdown",
   "id": "peripheral-mattress",
   "metadata": {},
   "source": [
    "# Instructions for running models / experiments\n",
    "\n",
    "\n",
    "The run_model.py script acts as a pipeline to train and validate models using the training set of the nsynth dataset. This pulls data from from the zipped training set (in a .tar.gz file), pulls the files sequentially\\* and returns the data in batchs.\n",
    "\n",
    "Example:\n",
    "If we set num_files = 100 and num_batches = 3, the script will extract and process files 1-100, train the model, then extract and process files 101-200, then do more training\\*\\*\n",
    "\n",
    "The model itself is defined in sequential_model.py. run_model initializes the object defined by the sequential_model class. The reasoning for this setup is to allow for easy modification for each model so that we can easily keep track of various attributes and hyperparameters. \n",
    "\n",
    "When adding new models, I suggest we define all of them be seperate classes, this can either occur by making a dedicated file for each model (ideal if we're working with a huge number of different architectures) or by putting multiple classes in the same script (ideal if we're working with a few architectures and varying the hyperparameters for each one). \n",
    "\n",
    "\n",
    "\\* **This is a known issue and needs to be fixed in an update. Taking this approach will probably lead to overfitting.**\n",
    "\n",
    "\\*\\* I am pretty sure this is what's going on. Current tests with only a sequential model are not giving accuracies above ~0.25 and varying wildly. We need to make sure tha it's actually not re-training the model from scratch for each batch. This will be something to consider if future models that we try don't improve after the first batch. "
   ]
  },
  {
   "cell_type": "code",
   "execution_count": null,
   "id": "plain-sleeping",
   "metadata": {},
   "outputs": [],
   "source": []
  }
 ],
 "metadata": {
  "kernelspec": {
   "display_name": "music_analysis",
   "language": "python",
   "name": "music_analysis"
  },
  "language_info": {
   "codemirror_mode": {
    "name": "ipython",
    "version": 3
   },
   "file_extension": ".py",
   "mimetype": "text/x-python",
   "name": "python",
   "nbconvert_exporter": "python",
   "pygments_lexer": "ipython3",
   "version": "3.8.6"
  }
 },
 "nbformat": 4,
 "nbformat_minor": 5
}
